{
 "cells": [
  {
   "cell_type": "markdown",
   "id": "a4fdd777",
   "metadata": {
    "papermill": {
     "duration": 0.026277,
     "end_time": "2021-11-02T20:53:46.867841",
     "exception": false,
     "start_time": "2021-11-02T20:53:46.841564",
     "status": "completed"
    },
    "tags": []
   },
   "source": [
    "# Text Extraction\n",
    "As a first step of the pipeline, we aim to extract text from PDFs in this notebook. The input PDFs for this notebook is in the `ROOT/data/pdfs` directory and the output json will be stored in `ROOT/data/extract` directory. The output from this notebook combined with the annotations will be used in the next step of curation."
   ]
  },
  {
   "cell_type": "code",
   "execution_count": 1,
   "id": "aaa9f36c",
   "metadata": {
    "execution": {
     "iopub.execute_input": "2021-11-02T20:53:46.927077Z",
     "iopub.status.busy": "2021-11-02T20:53:46.926366Z",
     "iopub.status.idle": "2021-11-02T20:53:57.187684Z",
     "shell.execute_reply": "2021-11-02T20:53:57.187047Z"
    },
    "papermill": {
     "duration": 10.29493,
     "end_time": "2021-11-02T20:53:57.187846",
     "exception": false,
     "start_time": "2021-11-02T20:53:46.892916",
     "status": "completed"
    },
    "tags": []
   },
   "outputs": [],
   "source": [
    "# Author: ALLIANZ NLP esg data pipeline\n",
    "import os\n",
    "import pathlib\n",
    "from dotenv import load_dotenv\n",
    "from pathlib import Path\n",
    "\n",
    "import config\n",
    "from src.components.preprocessing import Extractor\n",
    "from src.data.s3_communication import S3Communication"
   ]
  },
  {
   "cell_type": "markdown",
   "id": "d6622dad",
   "metadata": {
    "papermill": {
     "duration": 0.024383,
     "end_time": "2021-11-02T20:53:57.239265",
     "exception": false,
     "start_time": "2021-11-02T20:53:57.214882",
     "status": "completed"
    },
    "tags": []
   },
   "source": [
    "### Injecting Credentials\n",
    "\n",
    "In order to run this notebook, we need credentials to connect with S3 storage to retrieve and store data.\n",
    "\n",
    "In an automated environment, the credentials can be specified in a pipeline's environment variables or through Openshift secrets.\n",
    "\n",
    "For running the notebook in automation in an elyra pipeline, the environment variables can be updated in the notebook \"Properties\" in the pipeline UI or under `\"env_vars\"` in the `demo2.pipeline yaml` file.\n",
    "\n",
    "For running the notebook in a local environment, we will define them as environment variables in a `credentials.env` file at the root of the project repository, and load them using dotenv. An example of what the contents of `credentials.env` could look like is shown below\n",
    "\n",
    "```\n",
    "# s3 credentials\n",
    "S3_ENDPOINT=https://s3.us-east-1.amazonaws.com\n",
    "S3_BUCKET=ocp-odh-os-demo-s3\n",
    "S3_ACCESS_KEY=xxx\n",
    "S3_SECRET_KEY=xxx\n",
    "```"
   ]
  },
  {
   "cell_type": "code",
   "execution_count": 2,
   "id": "8aaf521a",
   "metadata": {
    "execution": {
     "iopub.execute_input": "2021-11-02T20:53:57.298022Z",
     "iopub.status.busy": "2021-11-02T20:53:57.292740Z",
     "iopub.status.idle": "2021-11-02T20:53:57.299998Z",
     "shell.execute_reply": "2021-11-02T20:53:57.300426Z"
    },
    "papermill": {
     "duration": 0.036995,
     "end_time": "2021-11-02T20:53:57.300567",
     "exception": false,
     "start_time": "2021-11-02T20:53:57.263572",
     "status": "completed"
    },
    "tags": []
   },
   "outputs": [],
   "source": [
    "# Load credentials\n",
    "dotenv_dir = os.environ.get(\n",
    "    \"CREDENTIAL_DOTENV_DIR\", os.environ.get(\"PWD\", \"/opt/app-root/src\")\n",
    ")\n",
    "dotenv_path = pathlib.Path(dotenv_dir) / \"credentials.env\"\n",
    "if os.path.exists(dotenv_path):\n",
    "    load_dotenv(dotenv_path=dotenv_path, override=True)"
   ]
  },
  {
   "cell_type": "code",
   "execution_count": 3,
   "id": "51f35acd",
   "metadata": {
    "execution": {
     "iopub.execute_input": "2021-11-02T20:53:57.357930Z",
     "iopub.status.busy": "2021-11-02T20:53:57.357313Z",
     "iopub.status.idle": "2021-11-02T20:53:57.362566Z",
     "shell.execute_reply": "2021-11-02T20:53:57.363042Z"
    },
    "papermill": {
     "duration": 0.037355,
     "end_time": "2021-11-02T20:53:57.363181",
     "exception": false,
     "start_time": "2021-11-02T20:53:57.325826",
     "status": "completed"
    },
    "tags": []
   },
   "outputs": [],
   "source": [
    "# init s3 connector\n",
    "s3c = S3Communication(\n",
    "    s3_endpoint_url=os.getenv(\"S3_ENDPOINT\"),\n",
    "    aws_access_key_id=os.getenv(\"S3_ACCESS_KEY\"),\n",
    "    aws_secret_access_key=os.getenv(\"S3_SECRET_KEY\"),\n",
    "    s3_bucket=os.getenv(\"S3_BUCKET\"),\n",
    ")"
   ]
  },
  {
   "cell_type": "code",
   "execution_count": 4,
   "id": "a291d0d6",
   "metadata": {
    "execution": {
     "iopub.execute_input": "2021-11-02T20:53:57.417744Z",
     "iopub.status.busy": "2021-11-02T20:53:57.417100Z",
     "iopub.status.idle": "2021-11-02T20:53:57.420918Z",
     "shell.execute_reply": "2021-11-02T20:53:57.420317Z"
    },
    "papermill": {
     "duration": 0.033886,
     "end_time": "2021-11-02T20:53:57.421037",
     "exception": false,
     "start_time": "2021-11-02T20:53:57.387151",
     "status": "completed"
    },
    "tags": []
   },
   "outputs": [],
   "source": [
    "# When running in Automation using Elyra and Kubeflow Pipelines,\n",
    "# set AUTOMATION = 1 as an environment variable\n",
    "if os.getenv(\"AUTOMATION\"):\n",
    "    if not os.path.exists(config.CHECKPOINT_FOLDER):\n",
    "        config.CHECKPOINT_FOLDER.mkdir(parents=True, exist_ok=True)\n",
    "\n",
    "    if not os.path.exists(config.BASE_PDF_FOLDER):\n",
    "        config.BASE_PDF_FOLDER.mkdir(parents=True, exist_ok=True)\n",
    "\n",
    "    if not os.path.exists(config.BASE_EXTRACTION_FOLDER):\n",
    "        config.BASE_EXTRACTION_FOLDER.mkdir(parents=True, exist_ok=True)"
   ]
  },
  {
   "cell_type": "code",
   "execution_count": 5,
   "id": "0c515308",
   "metadata": {
    "execution": {
     "iopub.execute_input": "2021-11-02T20:53:57.473581Z",
     "iopub.status.busy": "2021-11-02T20:53:57.473021Z",
     "iopub.status.idle": "2021-11-02T20:53:58.025792Z",
     "shell.execute_reply": "2021-11-02T20:53:58.025159Z"
    },
    "papermill": {
     "duration": 0.579906,
     "end_time": "2021-11-02T20:53:58.026036",
     "exception": false,
     "start_time": "2021-11-02T20:53:57.446130",
     "status": "completed"
    },
    "tags": []
   },
   "outputs": [],
   "source": [
    "# download all files from which text is to be extracted\n",
    "s3c.download_files_in_prefix_to_dir(\n",
    "    config.BASE_PDF_S3_PREFIX,\n",
    "    config.BASE_PDF_FOLDER,\n",
    ")"
   ]
  },
  {
   "cell_type": "markdown",
   "id": "794b7c2a",
   "metadata": {
    "papermill": {
     "duration": 0.036373,
     "end_time": "2021-11-02T20:53:58.101834",
     "exception": false,
     "start_time": "2021-11-02T20:53:58.065461",
     "status": "completed"
    },
    "tags": []
   },
   "source": [
    "### Call text extracter"
   ]
  },
  {
   "cell_type": "code",
   "execution_count": 6,
   "id": "fe717a2d",
   "metadata": {
    "execution": {
     "iopub.execute_input": "2021-11-02T20:53:58.186777Z",
     "iopub.status.busy": "2021-11-02T20:53:58.186105Z",
     "iopub.status.idle": "2021-11-02T20:53:58.189732Z",
     "shell.execute_reply": "2021-11-02T20:53:58.189088Z"
    },
    "papermill": {
     "duration": 0.037945,
     "end_time": "2021-11-02T20:53:58.189876",
     "exception": false,
     "start_time": "2021-11-02T20:53:58.151931",
     "status": "completed"
    },
    "tags": []
   },
   "outputs": [],
   "source": [
    "PDFTextExtractor_kwargs = {\n",
    "    \"min_paragraph_length\": 30,\n",
    "    \"annotation_folder\": None,\n",
    "    \"skip_extracted_files\": False,\n",
    "}"
   ]
  },
  {
   "cell_type": "code",
   "execution_count": 7,
   "id": "2cf7c3a9",
   "metadata": {
    "execution": {
     "iopub.execute_input": "2021-11-02T20:53:58.248736Z",
     "iopub.status.busy": "2021-11-02T20:53:58.248087Z",
     "iopub.status.idle": "2021-11-02T20:54:12.285428Z",
     "shell.execute_reply": "2021-11-02T20:54:12.284862Z"
    },
    "papermill": {
     "duration": 14.069484,
     "end_time": "2021-11-02T20:54:12.285620",
     "exception": false,
     "start_time": "2021-11-02T20:53:58.216136",
     "status": "completed"
    },
    "tags": []
   },
   "outputs": [
    {
     "name": "stdout",
     "output_type": "stream",
     "text": [
      "['/opt/app-root/data/pdfs/75506106_BOA_2016-12-31.pdf', '/opt/app-root/data/pdfs/88094292_Carriage Svcs Inc_2019-07-23.pdf', '/opt/app-root/data/pdfs/90044053_Fisher & Paykel Hl_2017-11-07.pdf']\n"
     ]
    }
   ],
   "source": [
    "ext = Extractor([(\"PDFTextExtractor\", PDFTextExtractor_kwargs)])\n",
    "ext.run_folder(config.BASE_PDF_FOLDER, config.BASE_EXTRACTION_FOLDER)"
   ]
  },
  {
   "cell_type": "code",
   "execution_count": 8,
   "id": "4d958c55",
   "metadata": {
    "execution": {
     "iopub.execute_input": "2021-11-02T20:54:12.344929Z",
     "iopub.status.busy": "2021-11-02T20:54:12.344303Z",
     "iopub.status.idle": "2021-11-02T20:54:12.545704Z",
     "shell.execute_reply": "2021-11-02T20:54:12.545152Z"
    },
    "papermill": {
     "duration": 0.233111,
     "end_time": "2021-11-02T20:54:12.545848",
     "exception": false,
     "start_time": "2021-11-02T20:54:12.312737",
     "status": "completed"
    },
    "tags": []
   },
   "outputs": [],
   "source": [
    "# upload the extracted files to s3\n",
    "s3c.upload_files_in_dir_to_prefix(\n",
    "    config.BASE_EXTRACTION_FOLDER,\n",
    "    config.BASE_EXTRACTION_S3_PREFIX\n",
    ")"
   ]
  },
  {
   "cell_type": "markdown",
   "id": "6f274994",
   "metadata": {
    "papermill": {
     "duration": 0.04234,
     "end_time": "2021-11-02T20:54:12.615738",
     "exception": false,
     "start_time": "2021-11-02T20:54:12.573398",
     "status": "completed"
    },
    "tags": []
   },
   "source": [
    "### Conclusion\n",
    "We called the Extractor class to extract text from the PDF and store the ouput in the `ROOT/data/extraction` folder."
   ]
  }
 ],
 "metadata": {
  "dependency_resolution_engine": "pipenv",
  "kernelspec": {
   "display_name": "Python 3 (ipykernel)",
   "language": "python",
   "name": "python3"
  },
  "language_info": {
   "codemirror_mode": {
    "name": "ipython",
    "version": 3
   },
   "file_extension": ".py",
   "mimetype": "text/x-python",
   "name": "python",
   "nbconvert_exporter": "python",
   "pygments_lexer": "ipython3",
   "version": "3.8.6"
  },
  "papermill": {
   "default_parameters": {},
   "duration": 27.91681,
   "end_time": "2021-11-02T20:54:13.570295",
   "environment_variables": {},
   "exception": null,
   "input_path": "/opt/app-root/src/extend-demo2/aicoe-osc-demo/notebooks/demo2/pdf_text_extraction.ipynb",
   "output_path": "/opt/app-root/src/extend-demo2/aicoe-osc-demo/notebooks/demo2/pdf_text_extraction.ipynb",
   "parameters": {},
   "start_time": "2021-11-02T20:53:45.653485",
   "version": "2.3.3"
  },
  "requirements": "{\"packages\":{\"config\":\"*\",\"src\":\"*\"},\"requires\":{\"python_version\":\"3.8\"},\"sources\":[{\"name\":\"pypi\",\"url\":\"https://pypi.org/simple\",\"verify_ssl\":true}]}",
  "requirements_lock": "{\"_meta\":{\"sources\":[{\"url\":\"https://pypi.org/simple\",\"verify_ssl\":true,\"name\":\"pypi\"}],\"requires\":{\"python_version\":\"3.8\"},\"hash\":{\"sha256\":\"e8a991415fecbbd714573539a77d69175edbedb517f135bd18e59629878bbc23\"},\"pipfile-spec\":6},\"default\":{\"config\":{\"version\":\"==0.5.1\",\"hashes\":[\"sha256:2dd4a03aa383d30711d5a3325a1858de225328d61950a85be5b74c100f63016d\",\"sha256:79ffa009ff2663cc8ca29e56bcec031c044609d4bafaa4f884132a413101ce84\"],\"index\":\"pypi\"},\"src\":{\"version\":\"==0.0.7\",\"hashes\":[\"sha256:2a33bd2995800b2d3fc80efb94a300951413e02ede94691aef58bffbd69e5b0e\"],\"index\":\"pypi\"}},\"develop\":{}}"
 },
 "nbformat": 4,
 "nbformat_minor": 5
}